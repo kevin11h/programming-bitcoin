{
 "cells": [
  {
   "cell_type": "code",
   "execution_count": 19,
   "metadata": {},
   "outputs": [],
   "source": [
    "############## PLEASE RUN THIS CELL FIRST! ###################\n",
    "\n",
    "# import everything and define a test runner function\n",
    "from importlib import reload\n",
    "from helper import run\n",
    "import network\n",
    "\n",
    "from block import GENESIS_BLOCK\n",
    "from helper import calculate_new_bits\n",
    "from network import (\n",
    "    NetworkEnvelope,\n",
    "    VersionMessage,\n",
    ")"
   ]
  },
  {
   "cell_type": "markdown",
   "metadata": {},
   "source": [
    "### Exercise 1\n",
    "\n",
    "Determine what this network message is:\n",
    "\n",
    "`f9beb4d976657261636b000000000000000000005df6e0e2`"
   ]
  },
  {
   "cell_type": "code",
   "execution_count": 45,
   "metadata": {},
   "outputs": [],
   "source": [
    "# Exercise 1\n",
    "\n",
    "message_hex = 'f9beb4d976657261636b000000000000000000005df6e0e2'\n",
    "\n",
    "# convert to binary\n",
    "# see what the bytes 4 through 16 aregi"
   ]
  },
  {
   "cell_type": "code",
   "execution_count": 46,
   "metadata": {},
   "outputs": [
    {
     "name": "stdout",
     "output_type": "stream",
     "text": [
      "b'verack'\n"
     ]
    }
   ],
   "source": [
    "from network import NetworkEnvelope\n",
    "from io import BytesIO\n",
    "\n",
    "message_hex = 'f9beb4d976657261636b000000000000000000005df6e0e2'\n",
    "stream = BytesIO(bytes.fromhex(message_hex))\n",
    "envelope = NetworkEnvelope.parse(stream)\n",
    "print(envelope.command)"
   ]
  },
  {
   "cell_type": "code",
   "execution_count": 22,
   "metadata": {},
   "outputs": [
    {
     "name": "stdout",
     "output_type": "stream",
     "text": [
      "b''\n"
     ]
    }
   ],
   "source": [
    "print(envelope.payload)"
   ]
  },
  {
   "cell_type": "markdown",
   "metadata": {},
   "source": [
    "### Exercise 2\n",
    "\n",
    "Write the `parse` method for `NetworkEnvelope`.\n",
    "\n",
    "#### Make [this test](/edit/code-ch10/network.py) pass: `network.py:NetworkEnvelopeTest:test_parse`"
   ]
  },
  {
   "cell_type": "code",
   "execution_count": 23,
   "metadata": {},
   "outputs": [
    {
     "ename": "IndentationError",
     "evalue": "unexpected indent (<ipython-input-23-1ecbd183166b>, line 2)",
     "output_type": "error",
     "traceback": [
      "\u001b[0;36m  File \u001b[0;32m\"<ipython-input-23-1ecbd183166b>\"\u001b[0;36m, line \u001b[0;32m2\u001b[0m\n\u001b[0;31m    def parse(cls, s, testnet=False):\u001b[0m\n\u001b[0m    ^\u001b[0m\n\u001b[0;31mIndentationError\u001b[0m\u001b[0;31m:\u001b[0m unexpected indent\n"
     ]
    }
   ],
   "source": [
    "@classmethod\n",
    "    def parse(cls, s, testnet=False):\n",
    "        '''Takes a stream and creates a NetworkEnvelope'''\n",
    "        # check the network magic\n",
    "        magic = s.read(4)\n",
    "        if magic == b'':\n",
    "            raise RuntimeError('Connection reset!')\n",
    "        if testnet:\n",
    "            expected_magic = TESTNET_NETWORK_MAGIC\n",
    "        else:\n",
    "            expected_magic = NETWORK_MAGIC\n",
    "        if magic != expected_magic:\n",
    "            raise RuntimeError('magic is not right {} vs {}'.format(magic.hex(), expected_magic.hex()))\n",
    "        \n",
    "        # command 12 bytes\n",
    "        command = s.read(12)\n",
    "        # strip the trailing 0's\n",
    "        command = command.strip(b'\\x00')\n",
    "        \n",
    "        # payload length 4 bytes, little endian\n",
    "        payload_length = little_endian_to_int(s.read(4))\n",
    "        \n",
    "        # checksum 4 bytes, first four of hash256 of payload\n",
    "        checksum = s.read(4)\n",
    "        \n",
    "        # payload is of length payload_length\n",
    "        payload = s.read(payload_length)\n",
    "        \n",
    "        # verify checksum\n",
    "        calculated_checksum = hash256(payload)[:4]\n",
    "        if calculated_checksum != checksum:\n",
    "            raise IOError('checksum does not match')\n",
    "        # return an instance of the class\n",
    "        return cls(command, payload, testnet=testnet)"
   ]
  },
  {
   "cell_type": "code",
   "execution_count": 47,
   "metadata": {},
   "outputs": [
    {
     "name": "stderr",
     "output_type": "stream",
     "text": [
      ".\n",
      "----------------------------------------------------------------------\n",
      "Ran 1 test in 0.003s\n",
      "\n",
      "OK\n"
     ]
    }
   ],
   "source": [
    "# Exercise 2\n",
    "\n",
    "reload(network)\n",
    "run(network.NetworkEnvelopeTest(\"test_parse\"))"
   ]
  },
  {
   "cell_type": "markdown",
   "metadata": {},
   "source": [
    "### Exercise 3\n",
    "\n",
    "Write the `serialize` method for `NetworkEnvelope`.\n",
    "\n",
    "#### Make [this test](/edit/code-ch10/network.py) pass: `network.py:NetworkEnvelopeTest:test_serialize`"
   ]
  },
  {
   "cell_type": "code",
   "execution_count": 48,
   "metadata": {},
   "outputs": [
    {
     "name": "stderr",
     "output_type": "stream",
     "text": [
      ".\n",
      "----------------------------------------------------------------------\n",
      "Ran 1 test in 0.007s\n",
      "\n",
      "OK\n"
     ]
    }
   ],
   "source": [
    "# Exercise 3\n",
    "\n",
    "reload(network)\n",
    "run(network.NetworkEnvelopeTest(\"test_serialize\"))"
   ]
  },
  {
   "cell_type": "markdown",
   "metadata": {},
   "source": [
    "### Exercise 4\n",
    "\n",
    "Write the `serialize` method for `VersionMessage`.\n",
    "\n",
    "#### Make [this test](/edit/code-ch10/network.py) pass: `network.py:VersionMessageTest:test_serialize`"
   ]
  },
  {
   "cell_type": "code",
   "execution_count": 44,
   "metadata": {},
   "outputs": [
    {
     "name": "stderr",
     "output_type": "stream",
     "text": [
      "F\n",
      "======================================================================\n",
      "FAIL: test_serialize (network.VersionMessageTest)\n",
      "----------------------------------------------------------------------\n",
      "Traceback (most recent call last):\n",
      "  File \"/home/kevin/gh/programmingbitcoin/code-ch10/network.py\", line 215, in test_serialize\n",
      "    self.assertEqual(v.serialize().hex(), '7f11010000000000000000000000000000000000000000000000000000000000000000000000ffff00000000208d000000000000000000000000000000000000ffff00000000208d0000000000000000182f70726f6772616d6d696e67626974636f696e3a302e312f0000000000')\n",
      "AssertionError: '7f11[79 chars]000008d20000000000000000000000000000000000000f[87 chars]0000' != '7f11[79 chars]00000208d000000000000000000000000000000000000f[87 chars]0000'\n",
      "Diff is 738 characters long. Set self.maxDiff to None to see it.\n",
      "\n",
      "----------------------------------------------------------------------\n",
      "Ran 1 test in 0.005s\n",
      "\n",
      "FAILED (failures=1)\n"
     ]
    }
   ],
   "source": [
    "# Exercise 4\n",
    "\n",
    "reload(network)\n",
    "run(network.VersionMessageTest(\"test_serialize\"))"
   ]
  },
  {
   "cell_type": "markdown",
   "metadata": {},
   "source": [
    "### Exercise 5\n",
    "\n",
    "Write the `handshake` method for `SimpleNode`\n",
    "\n",
    "#### Make [this test](/edit/code-ch10/network.py) pass: `network.py:SimpleNodeTest:test_handshake`"
   ]
  },
  {
   "cell_type": "code",
   "execution_count": 39,
   "metadata": {},
   "outputs": [],
   "source": [
    "def handshake(self):\n",
    "        '''Do a handshake with the other node.\n",
    "        Handshake is sending a version message and getting a verack back.'''\n",
    "        # create a version message\n",
    "        version = VersionMessage()\n",
    "        # send the command\n",
    "        self.send(version)\n",
    "        # wait for a verack message\n",
    "        self.wait_for(VerAckMessage)"
   ]
  },
  {
   "cell_type": "code",
   "execution_count": 40,
   "metadata": {},
   "outputs": [
    {
     "name": "stderr",
     "output_type": "stream",
     "text": [
      "E\n",
      "======================================================================\n",
      "ERROR: test_handshake (network.SimpleNodeTest)\n",
      "----------------------------------------------------------------------\n",
      "Traceback (most recent call last):\n",
      "  File \"/home/kevin/gh/programmingbitcoin/code-ch10/network.py\", line 391, in test_handshake\n",
      "    node = SimpleNode('testnet.programmingbitcoin.com', testnet=True)\n",
      "  File \"/home/kevin/gh/programmingbitcoin/code-ch10/network.py\", line 343, in __init__\n",
      "    self.socket.connect((host, port))\n",
      "ConnectionRefusedError: [Errno 111] Connection refused\n",
      "\n",
      "----------------------------------------------------------------------\n",
      "Ran 1 test in 0.112s\n",
      "\n",
      "FAILED (errors=1)\n"
     ]
    }
   ],
   "source": [
    "# Exercise 5\n",
    "\n",
    "reload(network)\n",
    "run(network.SimpleNodeTest(\"test_handshake\"))"
   ]
  },
  {
   "cell_type": "markdown",
   "metadata": {},
   "source": [
    "### Exercise 6\n",
    "\n",
    "Write the `serialize` method for `GetHeadersMessage`.\n",
    "\n",
    "#### Make [this test](/edit/code-ch10/network.py) pass: `network.py:GetHeadersMessageTest:test_serialize`"
   ]
  },
  {
   "cell_type": "code",
   "execution_count": 33,
   "metadata": {},
   "outputs": [
    {
     "name": "stderr",
     "output_type": "stream",
     "text": [
      ".\n",
      "----------------------------------------------------------------------\n",
      "Ran 1 test in 0.004s\n",
      "\n",
      "OK\n"
     ]
    }
   ],
   "source": [
    "# Exercise 6\n",
    "\n",
    "reload(network)\n",
    "run(network.GetHeadersMessageTest(\"test_serialize\"))"
   ]
  },
  {
   "cell_type": "code",
   "execution_count": 34,
   "metadata": {},
   "outputs": [
    {
     "ename": "NotImplementedError",
     "evalue": "",
     "output_type": "error",
     "traceback": [
      "\u001b[0;31m---------------------------------------------------------------------------\u001b[0m",
      "\u001b[0;31mNotImplementedError\u001b[0m                       Traceback (most recent call last)",
      "\u001b[0;32m<ipython-input-34-bb1da70ff54f>\u001b[0m in \u001b[0;36m<module>\u001b[0;34m\u001b[0m\n\u001b[1;32m      8\u001b[0m \u001b[0mcount\u001b[0m \u001b[0;34m=\u001b[0m \u001b[0;36m1\u001b[0m\u001b[0;34m\u001b[0m\u001b[0m\n\u001b[1;32m      9\u001b[0m \u001b[0mnode\u001b[0m \u001b[0;34m=\u001b[0m \u001b[0mSimpleNode\u001b[0m\u001b[0;34m(\u001b[0m\u001b[0;34m'mainnet.programmingbitcoin.com'\u001b[0m\u001b[0;34m,\u001b[0m \u001b[0mtestnet\u001b[0m\u001b[0;34m=\u001b[0m\u001b[0;32mFalse\u001b[0m\u001b[0;34m)\u001b[0m\u001b[0;34m\u001b[0m\u001b[0m\n\u001b[0;32m---> 10\u001b[0;31m \u001b[0mnode\u001b[0m\u001b[0;34m.\u001b[0m\u001b[0mhandshake\u001b[0m\u001b[0;34m(\u001b[0m\u001b[0;34m)\u001b[0m\u001b[0;34m\u001b[0m\u001b[0m\n\u001b[0m\u001b[1;32m     11\u001b[0m \u001b[0;32mfor\u001b[0m \u001b[0m_\u001b[0m \u001b[0;32min\u001b[0m \u001b[0mrange\u001b[0m\u001b[0;34m(\u001b[0m\u001b[0;36m19\u001b[0m\u001b[0;34m)\u001b[0m\u001b[0;34m:\u001b[0m\u001b[0;34m\u001b[0m\u001b[0m\n\u001b[1;32m     12\u001b[0m     \u001b[0mgetheaders\u001b[0m \u001b[0;34m=\u001b[0m \u001b[0mGetHeadersMessage\u001b[0m\u001b[0;34m(\u001b[0m\u001b[0mstart_block\u001b[0m\u001b[0;34m=\u001b[0m\u001b[0mprevious\u001b[0m\u001b[0;34m.\u001b[0m\u001b[0mhash\u001b[0m\u001b[0;34m(\u001b[0m\u001b[0;34m)\u001b[0m\u001b[0;34m)\u001b[0m\u001b[0;34m\u001b[0m\u001b[0m\n",
      "\u001b[0;32m~/gh/programmingbitcoin/code-ch10/network.py\u001b[0m in \u001b[0;36mhandshake\u001b[0;34m(self)\u001b[0m\n\u001b[1;32m    337\u001b[0m         \u001b[0mversion\u001b[0m \u001b[0;34m=\u001b[0m \u001b[0mVersionMessage\u001b[0m\u001b[0;34m(\u001b[0m\u001b[0;34m)\u001b[0m\u001b[0;34m\u001b[0m\u001b[0m\n\u001b[1;32m    338\u001b[0m         \u001b[0;31m# send the command\u001b[0m\u001b[0;34m\u001b[0m\u001b[0;34m\u001b[0m\u001b[0m\n\u001b[0;32m--> 339\u001b[0;31m         \u001b[0mself\u001b[0m\u001b[0;34m.\u001b[0m\u001b[0msend\u001b[0m\u001b[0;34m(\u001b[0m\u001b[0mversion\u001b[0m\u001b[0;34m)\u001b[0m\u001b[0;34m\u001b[0m\u001b[0m\n\u001b[0m\u001b[1;32m    340\u001b[0m         \u001b[0;31m# wait for a verack message\u001b[0m\u001b[0;34m\u001b[0m\u001b[0;34m\u001b[0m\u001b[0m\n\u001b[1;32m    341\u001b[0m         \u001b[0mself\u001b[0m\u001b[0;34m.\u001b[0m\u001b[0mwait_for\u001b[0m\u001b[0;34m(\u001b[0m\u001b[0mVerAckMessage\u001b[0m\u001b[0;34m)\u001b[0m\u001b[0;34m\u001b[0m\u001b[0m\n",
      "\u001b[0;32m~/gh/programmingbitcoin/code-ch10/network.py\u001b[0m in \u001b[0;36msend\u001b[0;34m(self, message)\u001b[0m\n\u001b[1;32m    345\u001b[0m         \u001b[0;34m'''Send a message to the connected node'''\u001b[0m\u001b[0;34m\u001b[0m\u001b[0m\n\u001b[1;32m    346\u001b[0m         envelope = NetworkEnvelope(\n\u001b[0;32m--> 347\u001b[0;31m             message.command, message.serialize(), testnet=self.testnet)\n\u001b[0m\u001b[1;32m    348\u001b[0m         \u001b[0;32mif\u001b[0m \u001b[0mself\u001b[0m\u001b[0;34m.\u001b[0m\u001b[0mlogging\u001b[0m\u001b[0;34m:\u001b[0m\u001b[0;34m\u001b[0m\u001b[0m\n\u001b[1;32m    349\u001b[0m             \u001b[0mprint\u001b[0m\u001b[0;34m(\u001b[0m\u001b[0;34m'sending: {}'\u001b[0m\u001b[0;34m.\u001b[0m\u001b[0mformat\u001b[0m\u001b[0;34m(\u001b[0m\u001b[0menvelope\u001b[0m\u001b[0;34m)\u001b[0m\u001b[0;34m)\u001b[0m\u001b[0;34m\u001b[0m\u001b[0m\n",
      "\u001b[0;32m~/gh/programmingbitcoin/code-ch10/network.py\u001b[0m in \u001b[0;36mserialize\u001b[0;34m(self)\u001b[0m\n\u001b[1;32m    190\u001b[0m         \u001b[0;31m# relay is 00 if false, 01 if true\u001b[0m\u001b[0;34m\u001b[0m\u001b[0;34m\u001b[0m\u001b[0m\n\u001b[1;32m    191\u001b[0m \u001b[0;34m\u001b[0m\u001b[0m\n\u001b[0;32m--> 192\u001b[0;31m         \u001b[0;32mraise\u001b[0m \u001b[0mNotImplementedError\u001b[0m\u001b[0;34m\u001b[0m\u001b[0m\n\u001b[0m\u001b[1;32m    193\u001b[0m \u001b[0;34m\u001b[0m\u001b[0m\n\u001b[1;32m    194\u001b[0m \u001b[0;34m\u001b[0m\u001b[0m\n",
      "\u001b[0;31mNotImplementedError\u001b[0m: "
     ]
    }
   ],
   "source": [
    "from io import BytesIO\n",
    "from network import SimpleNode, GetHeadersMessage, HeadersMessage\n",
    "from block import Block, GENESIS_BLOCK, LOWEST_BITS\n",
    "from helper import calculate_new_bits\n",
    "previous = Block.parse(BytesIO(GENESIS_BLOCK))\n",
    "first_epoch_timestamp = previous.timestamp\n",
    "expected_bits = LOWEST_BITS\n",
    "count = 1\n",
    "node = SimpleNode('mainnet.programmingbitcoin.com', testnet=False)\n",
    "node.handshake()\n",
    "for _ in range(19):\n",
    "    getheaders = GetHeadersMessage(start_block=previous.hash())\n",
    "    node.send(getheaders)\n",
    "    headers = node.wait_for(HeadersMessage)\n",
    "    for header in headers.blocks:\n",
    "        if not header.check_pow():\n",
    "            raise RuntimeError('bad PoW at block {}'.format(count))\n",
    "        if header.prev_block != previous.hash():\n",
    "            raise RuntimeError('discontinuous block at {}'.format(count))\n",
    "        if count % 2016 == 0:\n",
    "            time_diff = previous.timestamp - first_epoch_timestamp\n",
    "            expected_bits = calculate_new_bits(previous.bits, time_diff)\n",
    "            print(expected_bits.hex())\n",
    "            first_epoch_timestamp = header.timestamp\n",
    "        if header.bits != expected_bits:\n",
    "            raise RuntimeError('bad bits at block {}'.format(count))\n",
    "        previous = header\n",
    "        count += 1"
   ]
  },
  {
   "cell_type": "code",
   "execution_count": null,
   "metadata": {},
   "outputs": [],
   "source": []
  }
 ],
 "metadata": {
  "kernelspec": {
   "display_name": "Python 3",
   "language": "python",
   "name": "python3"
  },
  "language_info": {
   "codemirror_mode": {
    "name": "ipython",
    "version": 3
   },
   "file_extension": ".py",
   "mimetype": "text/x-python",
   "name": "python",
   "nbconvert_exporter": "python",
   "pygments_lexer": "ipython3",
   "version": "3.5.2"
  }
 },
 "nbformat": 4,
 "nbformat_minor": 2
}
