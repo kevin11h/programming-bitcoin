{
 "cells": [
  {
   "cell_type": "code",
   "execution_count": 26,
   "metadata": {},
   "outputs": [],
   "source": [
    "############## PLEASE RUN THIS CELL FIRST! ###################\n",
    "\n",
    "# import everything and define a test runner function\n",
    "from importlib import reload\n",
    "from helper import run\n",
    "import block\n",
    "import ecc\n",
    "import helper\n",
    "import script\n",
    "import tx"
   ]
  },
  {
   "cell_type": "markdown",
   "metadata": {},
   "source": [
    "### Exercise 1\n",
    "\n",
    "Write the `is_coinbase` method of the `Tx` class.\n",
    "\n",
    "#### Make [this test](/edit/code-ch09/tx.py) pass: `tx.py:TxTest:test_is_coinbase`"
   ]
  },
  {
   "cell_type": "markdown",
   "metadata": {},
   "source": [
    "\n",
    "\n",
    "`def is_coinbase(self):`\n",
    "        `'''Returns whether this transaction is a coinbase transaction or not'''`\n",
    "        # check that there is exactly 1 input\n",
    "        if len(self.tx_ins) != 1:\n",
    "        # grab the first input\n",
    "            return False\n",
    "        \n",
    "        first_input = self.tx_ins[0]\n",
    "        \n",
    "        # check that first input prev_tx is b'\\x00' * 32 bytes\n",
    "        if first_input.prev_tx != b'\\x00' * 32:\n",
    "            return False\n",
    "        \n",
    "        # check that first input prev_index is 0xffffffff\n",
    "        if first_input.prev_index != 0xffffffff:\n",
    "            return False\n",
    "        return True"
   ]
  },
  {
   "cell_type": "code",
   "execution_count": 27,
   "metadata": {},
   "outputs": [
    {
     "name": "stderr",
     "output_type": "stream",
     "text": [
      ".\n",
      "----------------------------------------------------------------------\n",
      "Ran 1 test in 0.054s\n",
      "\n",
      "OK\n"
     ]
    }
   ],
   "source": [
    "# Exercise 1\n",
    "\n",
    "reload(tx)\n",
    "run(tx.TxTest(\"test_is_coinbase\"))"
   ]
  },
  {
   "cell_type": "code",
   "execution_count": 28,
   "metadata": {},
   "outputs": [
    {
     "name": "stdout",
     "output_type": "stream",
     "text": [
      "b'The Times 03/Jan/2009 Chancellor on brink of second bailout for banks'\n"
     ]
    }
   ],
   "source": [
    "from io import BytesIO\n",
    "from script import Script\n",
    "stream = BytesIO(bytes.fromhex('4d04ffff001d0104455468652054696d65732030332f4a616e2f32303039204368616e63656c6c6f72206f6e206272696e6b206f66207365636f6e64206261696c6f757420666f722062616e6b73'))\n",
    "s = Script.parse(stream)\n",
    "print(s.cmds[2])"
   ]
  },
  {
   "cell_type": "code",
   "execution_count": 29,
   "metadata": {},
   "outputs": [
    {
     "name": "stdout",
     "output_type": "stream",
     "text": [
      "465879\n"
     ]
    }
   ],
   "source": [
    "from io import BytesIO\n",
    "from script import Script\n",
    "from helper import little_endian_to_int\n",
    "stream = BytesIO(bytes.fromhex('5e03d71b07254d696e656420627920416e74506f6f6c20626a31312f4542312f4144362f43205914293101fabe6d6d678e2c8c34afc36896e7d9402824ed38e856676ee94bfdb0c6c4bcd8b2e5666a0400000000000000c7270000a5e00e00'))\n",
    "script_sig = Script.parse(stream)\n",
    "print(little_endian_to_int(script_sig.cmds[0]))"
   ]
  },
  {
   "cell_type": "markdown",
   "metadata": {},
   "source": [
    "### Exercise 2\n",
    "\n",
    "Write the `coinbase_height` method for the `Tx` class.\n",
    "\n",
    "#### Make [this test](/edit/code-ch09/tx.py) pass: `tx.py:TxTest:test_coinbase_height`"
   ]
  },
  {
   "cell_type": "code",
   "execution_count": 30,
   "metadata": {},
   "outputs": [],
   "source": [
    "    def coinbase_height(self):\n",
    "        '''Returns the height of the block this coinbase transaction is in\n",
    "        Returns None if this transaction is not a coinbase transaction\n",
    "        '''\n",
    "        # if this is NOT a coinbase transaction, return None\n",
    "        if not self.is_coinbase():\n",
    "            return None\n",
    "        \n",
    "        # grab the first cmd\n",
    "        element = self.tx_ins[0].script_sig.cmds[0]\n",
    "        \n",
    "        # convert the cmd from little endian to int\n",
    "        return little_endian_to_int(element)\n"
   ]
  },
  {
   "cell_type": "code",
   "execution_count": 31,
   "metadata": {},
   "outputs": [
    {
     "name": "stderr",
     "output_type": "stream",
     "text": [
      ".\n",
      "----------------------------------------------------------------------\n",
      "Ran 1 test in 0.013s\n",
      "\n",
      "OK\n"
     ]
    }
   ],
   "source": [
    "# Exercise 2\n",
    "\n",
    "reload(tx)\n",
    "run(tx.TxTest(\"test_coinbase_height\"))"
   ]
  },
  {
   "cell_type": "code",
   "execution_count": 32,
   "metadata": {},
   "outputs": [
    {
     "name": "stdout",
     "output_type": "stream",
     "text": [
      "0000000000000000007e9e4c586439b0cdbe13b1370bdd9435d76a644d047523\n"
     ]
    }
   ],
   "source": [
    "from helper import hash256\n",
    "block_hash = hash256(bytes.fromhex('020000208ec39428b17323fa0ddec8e887b4a7c53b8c0a0a220cfd0000000000000000005b0750fce0a889502d40508d39576821155e9c9e3f5c3157f961db38fd8b25be1e77a759e93c0118a4ffd71d'))[::-1]\n",
    "block_id = block_hash.hex()\n",
    "print(block_id)"
   ]
  },
  {
   "cell_type": "markdown",
   "metadata": {},
   "source": [
    "### Exercise 3\n",
    "\n",
    "Write the `parse` for `Block`.\n",
    "\n",
    "#### Make [this test](/edit/code-ch09/block.py) pass: `block.py:BlockTest:test_parse`"
   ]
  },
  {
   "cell_type": "code",
   "execution_count": 33,
   "metadata": {},
   "outputs": [],
   "source": [
    "@classmethod\n",
    "def parse(cls, s):\n",
    "        '''Takes a byte stream and parses the tx_input at the start\n",
    "        return a TxIn object\n",
    "        '''\n",
    "        # prev_tx is 32 bytes, little endian\n",
    "        prev_tx = s.read(32)[::-1]\n",
    "        # prev_index is an integer in 4 bytes, little endian\n",
    "        prev_index = little_endian_to_int(s.read(4))\n",
    "        # use Script.parse to get the ScriptSig\n",
    "        script_sig = Script.parse(s)\n",
    "        # sequence is an integer in 4 bytes, little-endian\n",
    "        sequence = little_endian_to_int(s.read(4))\n",
    "        # return an instance of the class (see __init__ for args)\n",
    "        return cls(prev_tx, prev_index, script_sig, sequence)\n"
   ]
  },
  {
   "cell_type": "code",
   "execution_count": 34,
   "metadata": {},
   "outputs": [
    {
     "name": "stderr",
     "output_type": "stream",
     "text": [
      ".\n",
      "----------------------------------------------------------------------\n",
      "Ran 1 test in 0.007s\n",
      "\n",
      "OK\n"
     ]
    }
   ],
   "source": [
    "# Exercise 3\n",
    "\n",
    "reload(block)\n",
    "run(block.BlockTest(\"test_parse\"))"
   ]
  },
  {
   "cell_type": "markdown",
   "metadata": {},
   "source": [
    "# 7 Stars Seven Serialize"
   ]
  },
  {
   "cell_type": "markdown",
   "metadata": {},
   "source": [
    "### Exercise 4\n",
    "\n",
    "Write the `serialize` for `Block`.\n",
    "\n",
    "#### Make [this test](/edit/code-ch09/block.py) pass: `block.py:BlockTest:test_serialize`"
   ]
  },
  {
   "cell_type": "code",
   "execution_count": 35,
   "metadata": {},
   "outputs": [],
   "source": [
    "def serialize(self):\n",
    "        '''Returns the 80 byte block header'''\n",
    "        # version - 4 bytes, little endian\n",
    "        result = int_to_little_endian(self.version, 4)\n",
    "        # prev_block - 32 bytes, little endian\n",
    "        result+= self.prev_block[::-1]\n",
    "        # merkle_root - 32 bytes, little endian\n",
    "        result+= self.merkle_root[::-1]\n",
    "        # timestamp - 4 bytes, little endian\n",
    "        result+= int_to_little_endian(self.timestamp, 4)\n",
    "        # bits - 4 bytes\n",
    "        result+= self.bits\n",
    "        # nonce - 4 bytes\n",
    "        result+= self.nonce\n",
    "        return result"
   ]
  },
  {
   "cell_type": "code",
   "execution_count": 36,
   "metadata": {},
   "outputs": [
    {
     "name": "stderr",
     "output_type": "stream",
     "text": [
      ".\n",
      "----------------------------------------------------------------------\n",
      "Ran 1 test in 0.003s\n",
      "\n",
      "OK\n"
     ]
    }
   ],
   "source": [
    "# Exercise 4\n",
    "\n",
    "reload(block)\n",
    "run(block.BlockTest(\"test_serialize\"))"
   ]
  },
  {
   "cell_type": "markdown",
   "metadata": {},
   "source": [
    "# Check Version = Conversion"
   ]
  },
  {
   "cell_type": "markdown",
   "metadata": {},
   "source": [
    "### Exercise 5\n",
    "\n",
    "Write the `hash` for `Block`.\n",
    "\n",
    "#### Make [this test](/edit/code-ch09/block.py) pass: `block.py:BlockTest:test_hash`"
   ]
  },
  {
   "cell_type": "code",
   "execution_count": 37,
   "metadata": {},
   "outputs": [],
   "source": [
    "def hash(self):\n",
    "        '''Returns the hash256 interpreted little endian of the block'''\n",
    "        # serialize\n",
    "        s = self.serialize()\n",
    "        # hash256\n",
    "        sha = hash256(s)\n",
    "        # reverse\n",
    "        return sha[::-1]"
   ]
  },
  {
   "cell_type": "code",
   "execution_count": 38,
   "metadata": {},
   "outputs": [
    {
     "name": "stderr",
     "output_type": "stream",
     "text": [
      ".\n",
      "----------------------------------------------------------------------\n",
      "Ran 1 test in 0.006s\n",
      "\n",
      "OK\n"
     ]
    }
   ],
   "source": [
    "# Exercise 5\n",
    "\n",
    "reload(block)\n",
    "run(block.BlockTest(\"test_hash\"))"
   ]
  },
  {
   "cell_type": "code",
   "execution_count": 39,
   "metadata": {},
   "outputs": [
    {
     "name": "stdout",
     "output_type": "stream",
     "text": [
      "BIP9: True\n",
      "BIP91: False\n",
      "BIP141: True\n"
     ]
    }
   ],
   "source": [
    "from io import BytesIO\n",
    "from block import Block\n",
    "b = Block.parse(BytesIO(bytes.fromhex('020000208ec39428b17323fa0ddec8e887b4a7c53b8c0a0a220cfd0000000000000000005b0750fce0a889502d40508d39576821155e9c9e3f5c3157f961db38fd8b25be1e77a759e93c0118a4ffd71d')))\n",
    "print('BIP9: {}'.format(b.version >> 29 == 0b001))\n",
    "print('BIP91: {}'.format(b.version >> 4 & 1 == 1))\n",
    "print('BIP141: {}'.format(b.version >> 1 & 1 == 1))"
   ]
  },
  {
   "cell_type": "markdown",
   "metadata": {},
   "source": [
    "### Exercise 6\n",
    "\n",
    "Write the `bip9` method for the `Block` class.\n",
    "\n",
    "#### Make [this test](/edit/code-ch09/block.py) pass: `block.py:BlockTest:test_bip9`"
   ]
  },
  {
   "cell_type": "code",
   "execution_count": 40,
   "metadata": {},
   "outputs": [],
   "source": [
    "def bip9(self):\n",
    "        '''Returns whether this block is signaling readiness for BIP9'''\n",
    "        # BIP9 is signalled if the top 3 bits are 001\n",
    "        # remember version is 32 bytes so right shift 29 (>> 29) and see if\n",
    "        return self.version >> 29==0b001# that is 001"
   ]
  },
  {
   "cell_type": "code",
   "execution_count": 41,
   "metadata": {},
   "outputs": [
    {
     "name": "stderr",
     "output_type": "stream",
     "text": [
      ".\n",
      "----------------------------------------------------------------------\n",
      "Ran 1 test in 0.003s\n",
      "\n",
      "OK\n"
     ]
    }
   ],
   "source": [
    "# Exercise 6\n",
    "\n",
    "reload(block)\n",
    "run(block.BlockTest(\"test_bip9\"))"
   ]
  },
  {
   "cell_type": "markdown",
   "metadata": {},
   "source": [
    "### Exercise 7\n",
    "\n",
    "Write the `bip91` method for the `Block` class.\n",
    "\n",
    "#### Make [this test](/edit/code-ch09/block.py) pass: `block.py:BlockTest:test_bip91`"
   ]
  },
  {
   "cell_type": "code",
   "execution_count": 42,
   "metadata": {},
   "outputs": [],
   "source": [
    "\n",
    "    def bip91(self):\n",
    "        '''Returns whether this block is signaling readiness for BIP91'''\n",
    "        # BIP91 is signalled if the 5th bit from the right is 1\n",
    "        # shift 4 bits to the right and see if the last bit is 1\n",
    "        return self.version >> 4 & 1==1\n"
   ]
  },
  {
   "cell_type": "code",
   "execution_count": 43,
   "metadata": {},
   "outputs": [
    {
     "name": "stderr",
     "output_type": "stream",
     "text": [
      ".\n",
      "----------------------------------------------------------------------\n",
      "Ran 1 test in 0.007s\n",
      "\n",
      "OK\n"
     ]
    }
   ],
   "source": [
    "# Exercise 7\n",
    "\n",
    "reload(block)\n",
    "run(block.BlockTest(\"test_bip91\"))"
   ]
  },
  {
   "cell_type": "markdown",
   "metadata": {},
   "source": [
    "### Exercise 8\n",
    "\n",
    "Write the `bip141` method for the `Block` class.\n",
    "\n",
    "#### Make [this test](/edit/code-ch09/block.py) pass: `block.py:BlockTest:test_bip141`"
   ]
  },
  {
   "cell_type": "code",
   "execution_count": 44,
   "metadata": {},
   "outputs": [],
   "source": [
    "\n",
    "    def bip141(self):\n",
    "        '''Returns whether this block is signaling readiness for BIP141'''\n",
    "        # BIP91 is signalled if the 2nd bit from the right is 1\n",
    "        # shift 1 bit to the right and see if the last bit is 1\n",
    "        return self.version >> 1 & 1==1"
   ]
  },
  {
   "cell_type": "code",
   "execution_count": 45,
   "metadata": {},
   "outputs": [
    {
     "name": "stderr",
     "output_type": "stream",
     "text": [
      ".\n",
      "----------------------------------------------------------------------\n",
      "Ran 1 test in 0.003s\n",
      "\n",
      "OK\n"
     ]
    }
   ],
   "source": [
    "# Exercise 8\n",
    "\n",
    "reload(block)\n",
    "run(block.BlockTest(\"test_bip141\"))"
   ]
  },
  {
   "cell_type": "code",
   "execution_count": 46,
   "metadata": {},
   "outputs": [
    {
     "name": "stdout",
     "output_type": "stream",
     "text": [
      "0000000000000000007e9e4c586439b0cdbe13b1370bdd9435d76a644d047523\n"
     ]
    }
   ],
   "source": [
    "from helper import hash256\n",
    "block_id = hash256(bytes.fromhex('020000208ec39428b17323fa0ddec8e887b4a7c53b8c0a0a220cfd0000000000000000005b0750fce0a889502d40508d39576821155e9c9e3f5c3157f961db38fd8b25be1e77a759e93c0118a4ffd71d'))[::-1]\n",
    "print('{}'.format(block_id.hex()).zfill(64))"
   ]
  },
  {
   "cell_type": "markdown",
   "metadata": {},
   "source": [
    "# Target - Goal Setting?"
   ]
  },
  {
   "cell_type": "code",
   "execution_count": 47,
   "metadata": {},
   "outputs": [
    {
     "name": "stdout",
     "output_type": "stream",
     "text": [
      "0000000000000000013ce9000000000000000000000000000000000000000000\n"
     ]
    }
   ],
   "source": [
    "from helper import little_endian_to_int\n",
    "bits = bytes.fromhex('e93c0118')\n",
    "exponent = bits[-1]\n",
    "coefficient = little_endian_to_int(bits[:-1])\n",
    "target = coefficient * 256**(exponent - 3)\n",
    "print('{:x}'.format(target).zfill(64))"
   ]
  },
  {
   "cell_type": "code",
   "execution_count": 48,
   "metadata": {},
   "outputs": [
    {
     "name": "stdout",
     "output_type": "stream",
     "text": [
      "True\n"
     ]
    }
   ],
   "source": [
    "from helper import little_endian_to_int\n",
    "proof = little_endian_to_int(hash256(bytes.fromhex('020000208ec39428b17323fa0ddec8e887b4a7c53b8c0a0a220cfd0000000000000000005b0750fce0a889502d40508d39576821155e9c9e3f5c3157f961db38fd8b25be1e77a759e93c0118a4ffd71d')))\n",
    "print(proof < target)"
   ]
  },
  {
   "cell_type": "code",
   "execution_count": null,
   "metadata": {},
   "outputs": [],
   "source": []
  },
  {
   "cell_type": "markdown",
   "metadata": {},
   "source": [
    "### Exercise 9\n",
    "\n",
    "Write the `bits_to_target` function in `helper.py`.\n",
    "\n",
    "#### Make [this test](/edit/code-ch09/block.py) pass: `block.py:BlockTest:test_target`"
   ]
  },
  {
   "cell_type": "code",
   "execution_count": 53,
   "metadata": {},
   "outputs": [],
   "source": [
    "def difficulty(self):\n",
    "        '''Returns the block difficulty based on the bits'''\n",
    "        # note difficulty is (target of lowest difficulty) / (self's target)\n",
    "        lowest = 0xffff * 256**(0x1d-3)\n",
    "        \n",
    "        # lowest difficulty has bits that equal 0xffff001d\n",
    "        return lowest / self.target()"
   ]
  },
  {
   "cell_type": "code",
   "execution_count": 54,
   "metadata": {},
   "outputs": [],
   "source": [
    "\n",
    "def bits_to_target(bits):\n",
    "    '''Turns bits into a target (large 256-bit integer)'''\n",
    "    # last byte is exponent\n",
    "    exponent = bits[-1]\n",
    "    # the first three bytes are the coefficient in little endian\n",
    "    coefficient = little_endian_to_int(bits[:-1])\n",
    "    \n",
    "    # the formula is:\n",
    "    target = coefficient * 256**(exponent-3) # coefficient * 256**(exponent-3)\n",
    "    \n",
    "    return target"
   ]
  },
  {
   "cell_type": "code",
   "execution_count": 55,
   "metadata": {},
   "outputs": [
    {
     "name": "stderr",
     "output_type": "stream",
     "text": [
      ".\n",
      "----------------------------------------------------------------------\n",
      "Ran 1 test in 0.008s\n",
      "\n",
      "OK\n"
     ]
    }
   ],
   "source": [
    "# Exercise 9\n",
    "\n",
    "reload(block)\n",
    "run(block.BlockTest(\"test_target\"))"
   ]
  },
  {
   "cell_type": "code",
   "execution_count": 56,
   "metadata": {},
   "outputs": [
    {
     "name": "stdout",
     "output_type": "stream",
     "text": [
      "888171856257.3206\n"
     ]
    }
   ],
   "source": [
    "from helper import little_endian_to_int\n",
    "bits = bytes.fromhex('e93c0118')\n",
    "exponent = bits[-1]\n",
    "coefficient = little_endian_to_int(bits[:-1])\n",
    "target = coefficient*256**(exponent-3)\n",
    "difficulty = 0xffff * 256**(0x1d-3) / target\n",
    "print(difficulty)"
   ]
  },
  {
   "cell_type": "markdown",
   "metadata": {},
   "source": [
    "### Exercise 10\n",
    "\n",
    "Write the `difficulty` method for `Block`\n",
    "\n",
    "#### Make [this test](/edit/code-ch09/block.py) pass: `block.py:BlockTest:test_difficulty`"
   ]
  },
  {
   "cell_type": "code",
   "execution_count": 57,
   "metadata": {},
   "outputs": [
    {
     "name": "stderr",
     "output_type": "stream",
     "text": [
      ".\n",
      "----------------------------------------------------------------------\n",
      "Ran 1 test in 0.007s\n",
      "\n",
      "OK\n"
     ]
    }
   ],
   "source": [
    "# Exercise 10\n",
    "\n",
    "reload(block)\n",
    "run(block.BlockTest(\"test_difficulty\"))"
   ]
  },
  {
   "cell_type": "markdown",
   "metadata": {},
   "source": [
    "### Exercise 11\n",
    "\n",
    "Write the `check_pow` method for `Block`.\n",
    "\n",
    "#### Make [this test](/edit/code-ch09/block.py) pass: `block.py:BlockTest:test_check_pow`"
   ]
  },
  {
   "cell_type": "code",
   "execution_count": 60,
   "metadata": {},
   "outputs": [
    {
     "name": "stderr",
     "output_type": "stream",
     "text": [
      ".\n",
      "----------------------------------------------------------------------\n",
      "Ran 1 test in 0.012s\n",
      "\n",
      "OK\n"
     ]
    }
   ],
   "source": [
    "# Exercise 11\n",
    "\n",
    "reload(block)\n",
    "run(block.BlockTest(\"test_check_pow\"))"
   ]
  },
  {
   "cell_type": "code",
   "execution_count": 62,
   "metadata": {},
   "outputs": [
    {
     "name": "stdout",
     "output_type": "stream",
     "text": [
      "0000000000000000007615000000000000000000000000000000000000000000\n"
     ]
    }
   ],
   "source": [
    "from block import Block\n",
    "from helper import TWO_WEEKS\n",
    "last_block = Block.parse(BytesIO(bytes.fromhex('00000020fdf740b0e49cf75bb3d5168fb3586f7613dcc5cd89675b0100000000000000002e37b144c0baced07eb7e7b64da916cd3121f2427005551aeb0ec6a6402ac7d7f0e4235954d801187f5da9f5')))\n",
    "first_block = Block.parse(BytesIO(bytes.fromhex('000000201ecd89664fd205a37566e694269ed76e425803003628ab010000000000000000bfcade29d080d9aae8fd461254b041805ae442749f2a40100440fc0e3d5868e55019345954d80118a1721b2e')))\n",
    "time_differential = last_block.timestamp - first_block.timestamp\n",
    "if time_differential > TWO_WEEKS * 4:\n",
    "    time_differential = TWO_WEEKS * 4\n",
    "if time_differential < TWO_WEEKS // 4:\n",
    "    time_differential = TWO_WEEKS // 4\n",
    "new_target = last_block.target() * time_differential // TWO_WEEKS\n",
    "print('{:x}'.format(new_target).zfill(64))"
   ]
  },
  {
   "cell_type": "markdown",
   "metadata": {},
   "source": [
    "### Exercise 12\n",
    "\n",
    "Calculate the new bits given the first and last blocks of this 2016 block difficulty adjustment period:\n",
    "\n",
    "Block 471744:\n",
    "\n",
    "```\n",
    "000000203471101bbda3fe307664b3283a9ef0e97d9a38a7eacd8800000000000000000010c8ab\n",
    "a8479bbaa5e0848152fd3c2289ca50e1c3e58c9a4faaafbdf5803c5448ddb845597e8b0118e43a\n",
    "81d3\n",
    "```\n",
    "\n",
    "Block 473759:\n",
    "\n",
    "```\n",
    "02000020f1472d9db4b563c35f97c428ac903f23b7fc055d1cfc26000000000000000000b3f449\n",
    "fcbe1bc4cfbcb8283a0d2c037f961a3fdf2b8bedc144973735eea707e1264258597e8b0118e5f0\n",
    "0474\n",
    "```"
   ]
  },
  {
   "cell_type": "code",
   "execution_count": 72,
   "metadata": {},
   "outputs": [
    {
     "name": "stdout",
     "output_type": "stream",
     "text": [
      "80df6217\n"
     ]
    }
   ],
   "source": [
    "# Exercise 12\n",
    "\n",
    "from block import Block\n",
    "from helper import target_to_bits, TWO_WEEKS\n",
    "\n",
    "block1_hex = '000000203471101bbda3fe307664b3283a9ef0e97d9a38a7eacd8800000000000000000010c8aba8479bbaa5e0848152fd3c2289ca50e1c3e58c9a4faaafbdf5803c5448ddb845597e8b0118e43a81d3'\n",
    "block2_hex = '02000020f1472d9db4b563c35f97c428ac903f23b7fc055d1cfc26000000000000000000b3f449fcbe1bc4cfbcb8283a0d2c037f961a3fdf2b8bedc144973735eea707e1264258597e8b0118e5f00474'\n",
    "\n",
    "# parse both blocks\n",
    "last_block = Block.parse(BytesIO(bytes.fromhex(block1_hex)))\n",
    "first_block = Block.parse(BytesIO(bytes.fromhex(block2_hex)))\n",
    "\n",
    "\n",
    "# get the time differential\n",
    "time_differential = last_block.timestamp - first_block.timestamp\n",
    "\n",
    "# if the differential > 8 weeks, set to 8 weeks\n",
    "if time_differential  > TWO_WEEKS * 4:\n",
    "    time_differential = TWO_WEEKS *4\n",
    "\n",
    "# if the differential < 1/2 week, set to 1/2 week\n",
    "if time_differential  < TWO_WEEKS // 4:\n",
    "    time_differential = TWO_WEEKS //4\n",
    "\n",
    "# new target is last target * differential / 2 weeks\n",
    "new_target = last_block.target() * time_differential // TWO_WEEKS\n",
    "\n",
    "# convert new target to bits\n",
    "new_bits = target_to_bits(new_target)\n",
    "\n",
    "# print the new bits hex\n",
    "print(new_bits.hex())\n"
   ]
  },
  {
   "cell_type": "markdown",
   "metadata": {},
   "source": [
    "### Exercise 13\n",
    "\n",
    "Write the `calculate_new_bits` function in `helper.py`\n",
    "\n",
    "#### Make [this test](/edit/code-ch09/helper.py) pass: `helper.py:HelperTest:test_calculate_new_bits`"
   ]
  },
  {
   "cell_type": "code",
   "execution_count": 71,
   "metadata": {},
   "outputs": [
    {
     "name": "stderr",
     "output_type": "stream",
     "text": [
      ".\n",
      "----------------------------------------------------------------------\n",
      "Ran 1 test in 0.010s\n",
      "\n",
      "OK\n"
     ]
    }
   ],
   "source": [
    "# Exercise 13\n",
    "\n",
    "reload(helper)\n",
    "run(helper.HelperTest(\"test_calculate_new_bits\"))"
   ]
  },
  {
   "cell_type": "code",
   "execution_count": null,
   "metadata": {},
   "outputs": [],
   "source": []
  }
 ],
 "metadata": {
  "kernelspec": {
   "display_name": "Python 3",
   "language": "python",
   "name": "python3"
  },
  "language_info": {
   "codemirror_mode": {
    "name": "ipython",
    "version": 3
   },
   "file_extension": ".py",
   "mimetype": "text/x-python",
   "name": "python",
   "nbconvert_exporter": "python",
   "pygments_lexer": "ipython3",
   "version": "3.5.2"
  }
 },
 "nbformat": 4,
 "nbformat_minor": 2
}
